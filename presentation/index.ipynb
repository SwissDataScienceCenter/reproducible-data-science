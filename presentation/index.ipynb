{
 "cells": [
  {
   "cell_type": "markdown",
   "metadata": {},
   "source": [
    "# Reproducible Data Science in Python &mdash; Index"
   ]
  },
  {
   "cell_type": "markdown",
   "metadata": {},
   "source": [
    "The goal of this tutorial is to explore ways of doing **reproducible data science** in Python. It begins with a brief discussion of recent history and theory around reproducibility to motivate why it is important and what the benefits are. As reproducibility has gained importance, many tools have started coming up to address this need. These tools are built on a shared set of technical building blocks, and we provide a cursory introduction to the building blocks for implementing reproducible data science in the second section. Finally, we conclude the theory section concludes with a short survey of the current landscape of tools.\n",
    "\n",
    "The hands-on section of the tutorial focusing on doing reproducible data science using [RENKU](https://renkulab.io)."
   ]
  },
  {
   "cell_type": "markdown",
   "metadata": {},
   "source": [
    "# Schedule\n",
    "\n",
    "<table style=\"font-size: 14px; margin: 10px;\">\n",
    "    <tbody>\n",
    "        <tr>\n",
    "            <th>Introduction (1h 10m)</th>\n",
    "            <td></td>\n",
    "            <td></td>\n",
    "        </tr>        \n",
    "        <tr>\n",
    "            <th>15 min</th>\n",
    "            <td><a href=\"./00-Theory.ipynb\">Background &amp; Theory</a></td>\n",
    "            <td style=\"text-align: left\">Terminology, history, and philosophy of reproducibility</td>\n",
    "        </tr>\n",
    "        <tr> \n",
    "            <th>30 min</th>\n",
    "            <td><a href=\"./01-BuildingBlocks.ipynb\">Building Blocks</a></td>\n",
    "            <td style=\"text-align: left\">Building blocks for achieving reproducibility</td>\n",
    "        </tr>\n",
    "        <tr>\n",
    "            <th>15 min</th>\n",
    "            <td><a href=\"./02-Tools.ipynb\">Tools</a></td>\n",
    "            <td style=\"text-align: left\">Survey of the current tool landscape</td>\n",
    "        </tr>\n",
    "        <tr>\n",
    "            <th>10 min</th>\n",
    "            <td>Break</td>\n",
    "            <td></td>\n",
    "        </tr>\n",
    "        <tr>\n",
    "            <th>Hands-on (1h 30m)</th>\n",
    "            <td><a href=\"../hands-on/index.ipynb\">Index</a></td>\n",
    "            <td style=\"text-align: left\">Details about the hands-on exercise</td>\n",
    "        </tr>\n",
    "        <tr>\n",
    "            <th>10 min</th>\n",
    "            <td>Preview</td>\n",
    "            <td style=\"text-align: left\">What are we trying to accomplish?</td>\n",
    "        </tr>\n",
    "        <tr>\n",
    "            <th>30 min</th>\n",
    "            <td>Starting</td>\n",
    "            <td style=\"text-align: left\">Starting a project, inspecting + importing data</td>\n",
    "        </tr>\n",
    "        <tr>\n",
    "            <th>30 min</th>\n",
    "            <td>Iterating</td>\n",
    "            <td style=\"text-align: left\">Adding data, improving analysis</td>\n",
    "        </tr>\n",
    "        <tr>\n",
    "            <th>20 min</th>\n",
    "            <td>Reflection</td>\n",
    "            <td style=\"text-align: left\">What is the benefit? How much effort was it?</td>\n",
    "        </tr>\n",
    "     </tbody>\n",
    "</table>"
   ]
  },
  {
   "cell_type": "markdown",
   "metadata": {},
   "source": [
    "# Hands-on\n",
    "\n",
    "Continue to the master notebook for the hands-on section: <a href=\"../hands-on/index.ipynb\">hands-on/index.ipynb</a>."
   ]
  }
 ],
 "metadata": {
  "kernelspec": {
   "display_name": "Python 3",
   "language": "python",
   "name": "python3"
  },
  "language_info": {
   "codemirror_mode": {
    "name": "ipython",
    "version": 3
   },
   "file_extension": ".py",
   "mimetype": "text/x-python",
   "name": "python",
   "nbconvert_exporter": "python",
   "pygments_lexer": "ipython3",
   "version": "3.6.8"
  }
 },
 "nbformat": 4,
 "nbformat_minor": 2
}
