{
 "cells": [
  {
   "cell_type": "markdown",
   "metadata": {
    "slideshow": {
     "slide_type": "slide"
    }
   },
   "source": [
    "## Who are we?"
   ]
  },
  {
   "cell_type": "markdown",
   "metadata": {
    "slideshow": {
     "slide_type": "subslide"
    }
   },
   "source": [
    "### Swiss Data Science Center\n",
    "\n",
    "\"A joint initiative between EPFL & ETH to foster the adoption of data science in academia and industry\"\n",
    "\n",
    "Developing tools for collaborative, reproducible data science is one of our major activities.\n"
   ]
  },
  {
   "cell_type": "markdown",
   "metadata": {
    "slideshow": {
     "slide_type": "subslide"
    }
   },
   "source": [
    "* **Rok Roškar**: background in computational astrophysics, HPC, developing Renku\n",
    "\n",
    "* **Andreas Bleuler**: background in computational astrophyics, HPC, developing Renku and working on industrial data science collaborations\n",
    "\n",
    "* Chandrasekhar Ramakrishnan: Renku UI lead, main author of the tutorial material"
   ]
  },
  {
   "cell_type": "markdown",
   "metadata": {
    "slideshow": {
     "slide_type": "slide"
    }
   },
   "source": [
    "# Reproducibility in (Data) Science"
   ]
  },
  {
   "cell_type": "markdown",
   "metadata": {
    "slideshow": {
     "slide_type": "slide"
    }
   },
   "source": [
    "An email I recently received:\n",
    "\n",
    "![repro email](images/repro-email.png)"
   ]
  },
  {
   "cell_type": "markdown",
   "metadata": {
    "slideshow": {
     "slide_type": "slide"
    }
   },
   "source": [
    "## Why do we care about reproducibility?"
   ]
  },
  {
   "cell_type": "markdown",
   "metadata": {
    "slideshow": {
     "slide_type": "subslide"
    }
   },
   "source": [
    "## Example: Computational Physics\n",
    "\n",
    "2018 Victoria Stodden, M. Krafczyk, A. Bhaskar [Enabling the Verification of Computational Results](https://web.stanford.edu/~vcs/papers/P-RECS-2018-SKB-DOI.pdf)\n"
   ]
  },
  {
   "cell_type": "markdown",
   "metadata": {
    "slideshow": {
     "slide_type": "subslide"
    }
   },
   "source": [
    "The authors looked at 306 articles published in Journal of Computational Physics (which asks for research data to be made available) in 2016-2017.\n",
    "\n",
    "* 6 of 306 articles included information on how to get the data\n",
    "* The remaining 298 authors were contacted and they could get data for 49 further articles"
   ]
  },
  {
   "cell_type": "markdown",
   "metadata": {
    "slideshow": {
     "slide_type": "subslide"
    }
   },
   "source": [
    "In the end, they found the following:\n",
    "\n",
    "* 0 of 306 results could be straightforwardly reproduced\n",
    "* 5 results were fairly easy to reproduce\n",
    "* 22 results could be reproduced with some skill and effort\n",
    "\n",
    "**Over 90% of articles were not reproducible at all!**"
   ]
  },
  {
   "cell_type": "markdown",
   "metadata": {
    "slideshow": {
     "slide_type": "slide"
    }
   },
   "source": [
    "# Why is so much research not reproducible?"
   ]
  },
  {
   "cell_type": "markdown",
   "metadata": {
    "slideshow": {
     "slide_type": "subslide"
    }
   },
   "source": [
    "<div style=\"align: center; width: 100%\">\n",
    "    <img alt=\"Excuses\" src=\"./images/excuses.svg\">\n",
    "</div>"
   ]
  },
  {
   "cell_type": "markdown",
   "metadata": {
    "slideshow": {
     "slide_type": "subslide"
    }
   },
   "source": [
    "## Reproducibility:\n",
    "\n",
    "* Ensures transparency\n",
    "* Controlling for errors and artifacts\n",
    "* Enabling verification and generalization of hypothesis\n",
    "\n",
    "(see [Stanford Encyclopedia of Philosophy](https://plato.stanford.edu/entries/scientific-reproducibility/))\n",
    "\n",
    "### Has fringe benefits\n",
    "\n",
    "* Enabling reuse of data\n",
    "* Enabling reuse of code\n",
    "* Enabling sharing and extension of results"
   ]
  },
  {
   "cell_type": "markdown",
   "metadata": {
    "slideshow": {
     "slide_type": "subslide"
    }
   },
   "source": [
    "but really...\n",
    "\n",
    "# Because you might be asked to redo an analysis you did 10 years ago!"
   ]
  },
  {
   "cell_type": "markdown",
   "metadata": {
    "slideshow": {
     "slide_type": "subslide"
    }
   },
   "source": [
    "## Easier said than done..."
   ]
  },
  {
   "cell_type": "code",
   "execution_count": null,
   "metadata": {
    "slideshow": {
     "slide_type": "subslide"
    }
   },
   "outputs": [],
   "source": [
    "# https://bitbucket.org/rokroskar/homegrown/src/master/spiral_structure.py\n",
    "\n",
    "\"\"\"\n",
    "A set of routines for studying the properties of spiral structure\n",
    "\n",
    "\n",
    "Rok Roskar 12/2010\n",
    "Institute for Theoretical Physics, University of Zurich\n",
    "\n",
    "\"\"\"\n",
    "\n",
    "import pynbody\n",
    "import pynbody.analysis.profile as profile\n",
    "import numpy as np\n",
    "import glob\n",
    "import scipy as sp\n",
    "import matplotlib.pylab as plt\n",
    "import warnings\n",
    "from scipy.stats import gaussian_kde as kde\n"
   ]
  },
  {
   "cell_type": "code",
   "execution_count": null,
   "metadata": {
    "slideshow": {
     "slide_type": "subslide"
    }
   },
   "outputs": [],
   "source": [
    "def get_fft(fourier_data,t1,t2,r,m=2, window=False) : \n",
    "    \n",
    "    data = np.load(fourier_data)\n",
    "\n",
    "    rbin = np.digitize([r],data['r'])\n",
    "\n",
    "    ind = np.where((data['t'] >= t1) & (data['t'] <= t2))[0]\n",
    "\n",
    "    # the optimal N for the FFT\n",
    "    nfft = 2**np.ceil(np.log(len(ind))/np.log(2))\n",
    "\n",
    "    # this is the sample we are interested in\n",
    "    sample = data['c'][ind,m,rbin]\n",
    "\n",
    "    # window the sample\n",
    "\n",
    "    if window: \n",
    "        # Hanning\n",
    "        x = np.arange(0,len(ind))\n",
    "        win = 0.5*(1-np.cos(2*np.pi*x/(len(ind)-1)))\n",
    "        sample *= win\n"
   ]
  },
  {
   "cell_type": "markdown",
   "metadata": {
    "slideshow": {
     "slide_type": "subslide"
    }
   },
   "source": [
    "## Three (of four) key ingredients missing for a good answer\n",
    "\n",
    "1. What does the code do? Versioned, well-structured code 😃\n",
    "2. What kind of data is needed? Preserved and available data 😥\n",
    "3. How does the code run? Runtime environment 😫\n",
    "4. How are code and data combined to produce results? Workflow description 😭"
   ]
  },
  {
   "cell_type": "markdown",
   "metadata": {
    "slideshow": {
     "slide_type": "subslide"
    }
   },
   "source": [
    "## Tools can help - and there are many!\n",
    "\n",
    "* version control: git, GitHub, GitLab\n",
    "* data repositories: Zenodo, FigShare, Dataverse\n",
    "* packaging and environments: pip, conda, containerization (docker, singularity)\n",
    "* workflow/pipeline description: a myriad of workflow managers and languages\n",
    "\n",
    "#### Very difficult for any single person to do this + science!"
   ]
  },
  {
   "cell_type": "markdown",
   "metadata": {
    "slideshow": {
     "slide_type": "slide"
    }
   },
   "source": [
    "## Summary Matrix of Tools\n",
    "\n",
    "\n",
    "<table class=\"table table-condensed\" style=\"font-size: 16px; margin: 10px;\">\n",
    "    <thead>\n",
    "        <tr>\n",
    "            <th>Tool</th>\n",
    "            <th>SaaS</th>\n",
    "            <th>Local</th>\n",
    "            <th>Versions code</th>\n",
    "            <th>Versions data</th>\n",
    "            <th>Provenance</th>\n",
    "            <th>Open source</th>\n",
    "        </tr>\n",
    "    </thead>\n",
    "    <tbody>\n",
    "        <tr>\n",
    "            <th><a href=\"https://github.com/allenai/beaker\">Beaker</a></th>\n",
    "            <td style=\"text-align: center\"></td>\n",
    "            <td style=\"text-align: center\">X</td>\n",
    "            <td style=\"text-align: center\">X</td>\n",
    "            <td style=\"text-align: center\">X</td>\n",
    "            <td style=\"text-align: center\">X</td>\n",
    "            <td style=\"text-align: center\">X</td>\n",
    "        </tr>\n",
    "        <tr>\n",
    "            <th><a href=\"http://mybinder.org\">Binder</a></th>\n",
    "            <td style=\"text-align: center\">X</td>\n",
    "            <td style=\"text-align: center\"></td>\n",
    "            <td style=\"text-align: center\"></td>\n",
    "            <td style=\"text-align: center\"></td>\n",
    "            <td style=\"text-align: center\"></td>\n",
    "            <td style=\"text-align: center\">X</td>\n",
    "        </tr>\n",
    "        <tr>\n",
    "            <th><a href=\"https://codeocean.com\">Code Ocean</a></th>\n",
    "            <td style=\"text-align: center\">X</td>\n",
    "            <td style=\"text-align: center\"></td>\n",
    "            <td style=\"text-align: center\">X</td>\n",
    "            <td style=\"text-align: center\"></td>\n",
    "            <td style=\"text-align: center\"></td>\n",
    "            <td style=\"text-align: center\"></td>\n",
    "        </tr>         \n",
    "        <tr>\n",
    "            <th><a href=\"https://www.dominodatalab.com/product/\">Domino</a></th>\n",
    "            <td style=\"text-align: center\">X</td>\n",
    "            <td style=\"text-align: center\"></td>\n",
    "            <td style=\"text-align: center\">?</td>\n",
    "            <td style=\"text-align: center\">X</td>\n",
    "            <td style=\"text-align: center\">X</td>\n",
    "            <td style=\"text-align: center\"></td>\n",
    "        </tr>\n",
    "        <tr>\n",
    "            <th><a href=\"https://dvc.org\">DVC</a></th>\n",
    "            <td style=\"text-align: center\">X</td>\n",
    "            <td style=\"text-align: center\">X</td>\n",
    "            <td style=\"text-align: center\">X</td>\n",
    "            <td style=\"text-align: center\">X</td>\n",
    "            <td style=\"text-align: center\">X</td>\n",
    "            <td style=\"text-align: center\">X</td>\n",
    "        </tr>\n",
    "        <tr>\n",
    "            <th><a href=\"https://gigantum.com\">Gigantum</a></th>\n",
    "            <td style=\"text-align: center\">X</td>\n",
    "            <td style=\"text-align: center\">X</td>\n",
    "            <td style=\"text-align: center\">X</td>\n",
    "            <td style=\"text-align: center\">X</td>\n",
    "            <td style=\"text-align: center\">?</td>\n",
    "            <td style=\"text-align: center\">X</td>\n",
    "        </tr>\n",
    "        <tr>\n",
    "            <th><a href=\"https://cos.io/our-products/osf/\">OSF</a></th>\n",
    "            <td style=\"text-align: center\">X</td>\n",
    "            <td style=\"text-align: center\"></td>\n",
    "            <td style=\"text-align: center\">X</td>\n",
    "            <td style=\"text-align: center\">X</td>\n",
    "            <td style=\"text-align: center\">?</td>\n",
    "            <td style=\"text-align: center\">X</td>\n",
    "        </tr>\n",
    "        <tr>\n",
    "            <th><a href=\"https://www.pachyderm.io\">Pachyderm</a></th>\n",
    "            <td style=\"text-align: center\">X</td>\n",
    "            <td style=\"text-align: center\"></td>\n",
    "            <td style=\"text-align: center\">X</td>\n",
    "            <td style=\"text-align: center\">X</td>\n",
    "            <td style=\"text-align: center\">X</td>\n",
    "            <td style=\"text-align: center\">X</td>\n",
    "        </tr>\n",
    "        <tr style=\"font-size:24px;\">\n",
    "            <th><a href=\"https://renkulab.io\">Renku</a></th>\n",
    "            <td style=\"text-align: center\">X</td>\n",
    "            <td style=\"text-align: center\">X</td>\n",
    "            <td style=\"text-align: center\">X</td>\n",
    "            <td style=\"text-align: center\">X</td>\n",
    "            <td style=\"text-align: center\">X</td>\n",
    "            <td style=\"text-align: center\">X</td>\n",
    "        </tr>\n",
    "        <tr>\n",
    "            <th><a href=\"https://stenci.la\">Stencila</a></th>\n",
    "            <td style=\"text-align: center\"></td>\n",
    "            <td style=\"text-align: center\">X</td>\n",
    "            <td style=\"text-align: center\">?</td>\n",
    "            <td style=\"text-align: center\">?</td>\n",
    "            <td style=\"text-align: center\">?</td>\n",
    "            <td style=\"text-align: center\">X</td>\n",
    "        </tr>\n",
    "        <tr>\n",
    "            <th><a href=\"https://wholetale.org\">WholeTale</a></th>\n",
    "            <td style=\"text-align: center\">X</td>\n",
    "            <td style=\"text-align: center\"></td>\n",
    "            <td style=\"text-align: center\">?</td>\n",
    "            <td style=\"text-align: center\">?</td>\n",
    "            <td style=\"text-align: center\">?</td>\n",
    "            <td style=\"text-align: center\">X</td>\n",
    "        </tr>\n",
    "     </tbody>\n",
    "</table>\n"
   ]
  },
  {
   "cell_type": "markdown",
   "metadata": {
    "slideshow": {
     "slide_type": "slide"
    }
   },
   "source": [
    "## Renku: a platform for reproducible data science\n",
    "\n",
    "We are building Renku to glue together the pieces needed to work reproducibly. \n",
    "\n",
    "With Renku you can:\n",
    "\n",
    "* create a versioned, collaborative project\n",
    "* launch interactive environments for data exploration\n",
    "* record provenance of results for reuse\n",
    "* explore the global knowledge graph to find data and algorithms\n",
    "\n",
    "Renku is built on open standards with interoperability in mind."
   ]
  },
  {
   "cell_type": "markdown",
   "metadata": {
    "slideshow": {
     "slide_type": "subslide"
    }
   },
   "source": [
    "## Renku: a platform for reproducible data science\n",
    "\n",
    "Current version started in January 2018\n",
    "\n",
    "Open source, Apache 2 license: https://github.com/SwissDataScienceCenter/renku\n",
    "\n",
    "Public beta deployment running at https://renkulab.io\n"
   ]
  },
  {
   "cell_type": "markdown",
   "metadata": {
    "slideshow": {
     "slide_type": "subslide"
    }
   },
   "source": [
    "## Renku: roadmap\n",
    "\n",
    "* support for Dataset viewing and searching\n",
    "* improving provenance graph recording\n",
    "* streamlining the CLI experience\n",
    "* providing support for on-line workflow (re)execution\n",
    "* deeper integration of the Knowledge Graph\n"
   ]
  }
 ],
 "metadata": {
  "celltoolbar": "Slideshow",
  "kernelspec": {
   "display_name": "Python 3",
   "language": "python",
   "name": "python3"
  },
  "language_info": {
   "codemirror_mode": {
    "name": "ipython",
    "version": 3
   },
   "file_extension": ".py",
   "mimetype": "text/x-python",
   "name": "python",
   "nbconvert_exporter": "python",
   "pygments_lexer": "ipython3",
   "version": "3.7.4"
  }
 },
 "nbformat": 4,
 "nbformat_minor": 2
}
