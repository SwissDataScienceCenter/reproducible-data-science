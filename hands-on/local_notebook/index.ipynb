{
 "cells": [
  {
   "cell_type": "markdown",
   "metadata": {
    "slideshow": {
     "slide_type": "slide"
    }
   },
   "source": [
    "# Task\n",
    "\n",
    "Working with data from [US Dept. of Transportation, Bureau of Transportation Statistics](https://www.transtats.bts.gov), we will answer the following question:\n",
    "\n",
    "- How many flights were there to Austin, TX in Jan 2019"
   ]
  },
  {
   "cell_type": "markdown",
   "metadata": {
    "slideshow": {
     "slide_type": "notes"
    }
   },
   "source": [
    "The tools we will used for the task are a bit oversized for such a simple question. But it will give us an opportunity to look at reproducibility in an understandable and managable context."
   ]
  },
  {
   "cell_type": "markdown",
   "metadata": {
    "slideshow": {
     "slide_type": "slide"
    }
   },
   "source": [
    "# Approach"
   ]
  },
  {
   "cell_type": "markdown",
   "metadata": {
    "slideshow": {
     "slide_type": "notes"
    }
   },
   "source": [
    "In the hands-on, we will be doing our data science using Jupyter Notebooks. Notebooks have their [detractors](https://docs.google.com/presentation/d/1n2RlMdmv1p25Xy5thJUhkKGvjtV-dkAIsUXP-AL4ffI/edit#slide=id.g362da58057_0_1), and they make good points, but their popularity is also undeniable.\n",
    "\n",
    "Renku does not specifically target notebooks &mdash; it can work with any kind of program &mdash; but it is possible to use renku in combination with notebooks."
   ]
  },
  {
   "cell_type": "markdown",
   "metadata": {
    "slideshow": {
     "slide_type": "subslide"
    }
   },
   "source": [
    "## Ten Simple Rules\n",
    "\n",
    "[Ten Simple Rules for Reproducible Research in Jupyter Notebooks](https://arxiv.org/abs/1810.08055)\n",
    "\n",
    "<img src=\"./tutorial-images/ten-simple-rules-fig-1.png\" alt=\"Ten Simple Rules Fig. 1\" width=\"900px\" />"
   ]
  },
  {
   "cell_type": "markdown",
   "metadata": {
    "slideshow": {
     "slide_type": "notes"
    }
   },
   "source": [
    "[Ten Simple Rules for Reproducible Research in Jupyter Notebooks](https://arxiv.org/abs/1810.08055) provides a good set of best practices for working with notebooks. We adapt their suggestions to leverage the extra support provided by Renku.\n",
    "\n",
    "Their advice is essentially the same as what we have been discussing, but they provide some tips for handling problems specific to notebooks. \n",
    "\n",
    "Two of these problems are: 1. cells can be executed in any order; 2. it is difficult to provide parameters to notebooks. 1. complicates reproducibility, 2. makes reuse hard.\n",
    "\n",
    "The authors suggest using [Papermill](https://papermill.readthedocs.io/en/latest/), which solves both of these problems. Using papermill, it is possible to parameterize notebooks, and it is possible to execute them in a reproducible way."
   ]
  },
  {
   "cell_type": "markdown",
   "metadata": {
    "slideshow": {
     "slide_type": "skip"
    }
   },
   "source": [
    "## Hats\n",
    "\n",
    "* \"Renku\" Hat\n",
    "* \"Pandas\" Hat"
   ]
  },
  {
   "cell_type": "markdown",
   "metadata": {
    "slideshow": {
     "slide_type": "notes"
    }
   },
   "source": [
    "As we work through the tutorial, we will be alternating between two different hats: our \"pandas\" hat and our \"renku\" hat. When we have our pandas hat on, we will be working within the widely-known pandas eco-system. In terms of data science, the real work happens here. But, we are not going to dedicate much of our attention to this part, and it is possible to work through the tutorial with little to no pandas knowledge."
   ]
  },
  {
   "cell_type": "markdown",
   "metadata": {
    "slideshow": {
     "slide_type": "slide"
    }
   },
   "source": [
    "# Cast of Characters\n",
    "\n",
    "<table class=\"table table-striped\" style=\"font-size: 18px; margin: 10px;\">\n",
    "    <tbody>\n",
    "        <tr>\n",
    "            <th width=\"20%\"><code>!</code></th>\n",
    "            <td>IPython syntax for executing a shell command</td>\n",
    "        </tr>\n",
    "        <tr>\n",
    "            <th width=\"20%\"><code>cp</code></th>\n",
    "            <td>In practice, we would be writing the code, notebooks, and other files we work with. But, in this tutorial, we are going to write them by copying a pre-written version.</td>\n",
    "        </tr>\n",
    "        <tr>\n",
    "            <th width=\"20%\"><code>git status;</code><br>\n",
    "                <code>git add;</code><br>\n",
    "                <code>git commit</code>\n",
    "            </th>\n",
    "            <td>As we work, we will be committing to git to keep track of changes we make and the reasons for making them.</td>\n",
    "        </tr>\n",
    "        <tr>\n",
    "            <th width=\"20%\"><a href=\"https://papermill.readthedocs.io/en/latest/\">papermill</a></th>\n",
    "            <td>Tool for parameterizing and running notebooks in a reproducible way. It takes a notebook and its parameters as input, and produces a new notebook as output. We will use it together with <code>renku run</code></td>\n",
    "        </tr>\n",
    "        <tr>\n",
    "            <th width=\"10%\"><code>renku</code></th>\n",
    "            <td>Tools for reproducible data science.</td>\n",
    "        </tr>      \n",
    "     </tbody>\n",
    "</table>\n"
   ]
  },
  {
   "cell_type": "markdown",
   "metadata": {
    "slideshow": {
     "slide_type": "slide"
    }
   },
   "source": [
    "# Hands-on with Renku (1h 30m)\n",
    "\n",
    "<table class=\"table table-striped\" style=\"font-size: 18px; margin: 10px;\">\n",
    "    <tbody>\n",
    "        <tr>\n",
    "            <th width=\"10%\">30 min</th>\n",
    "            <td style=\"text-align: left\">Initialize a project and import data</td>\n",
    "        </tr>\n",
    "        <tr>\n",
    "            <th width=\"10%\"></th>\n",
    "            <td style=\"text-align: left\"><a href=\"01-1-CreateProject.ipynb\">Create a project</a></td>\n",
    "        </tr>        \n",
    "        <tr>\n",
    "            <th width=\"10%\"></th>\n",
    "            <td style=\"text-align: left\"><a href=\"01-2-DeclareEnv.ipynb\">Declare the project environment</a></td>\n",
    "        </tr>\n",
    "        <tr>\n",
    "            <th width=\"10%\"></th>\n",
    "            <td style=\"text-align: left\"><a href=\"01-3-CreateDataset.ipynb\">Create a dataset</a></td>\n",
    "        </tr>        \n",
    "        <tr>\n",
    "            <th width=\"10%\">30 min</th>\n",
    "            <td style=\"text-align: left\">Analyze data</td>\n",
    "        </tr>            \n",
    "            <th width=\"10%\"></th>\n",
    "            <td style=\"text-align: left\"><a href=\"02-1-BuildPipeline.ipynb\">Build an initial pipeline</a></td>\n",
    "        <tr>        \n",
    "            <th width=\"10%\"></th>\n",
    "            <td style=\"text-align: left\"><a href=\"02-2-UpdatePipeline.ipynb\">Improve the pipeline</a></td>            \n",
    "        </tr>\n",
    "        <tr>\n",
    "            <th width=\"10%\">30 min</th>\n",
    "            <td style=\"text-align: left\">Share results and collaborate using <a href=\"https://renkulab.io\">renkulab.io</a>.</td>\n",
    "        </tr>        \n",
    "        <tr>\n",
    "            <th width=\"10%\"></th>\n",
    "            <td style=\"text-align: left\"><a href=\"03-Sharing.ipynb\">Share results</a></td>\n",
    "        </tr>\n",
    "     </tbody>\n",
    "</table>"
   ]
  }
 ],
 "metadata": {
  "celltoolbar": "Slideshow",
  "kernelspec": {
   "display_name": "Python 3",
   "language": "python",
   "name": "python3"
  },
  "language_info": {
   "codemirror_mode": {
    "name": "ipython",
    "version": 3
   },
   "file_extension": ".py",
   "mimetype": "text/x-python",
   "name": "python",
   "nbconvert_exporter": "python",
   "pygments_lexer": "ipython3",
   "version": "3.6.8"
  }
 },
 "nbformat": 4,
 "nbformat_minor": 2
}
