{
 "cells": [
  {
   "cell_type": "markdown",
   "metadata": {
    "slideshow": {
     "slide_type": "slide"
    }
   },
   "source": [
    "# Reproducible Data Science with Renku"
   ]
  },
  {
   "cell_type": "markdown",
   "metadata": {
    "slideshow": {
     "slide_type": "slide"
    }
   },
   "source": [
    "# Set-up\n",
    "\n",
    "To work through these notebooks, make sure you have an environment by following the set-up instructions in the [project README.md](../../README.md)."
   ]
  },
  {
   "cell_type": "markdown",
   "metadata": {
    "slideshow": {
     "slide_type": "slide"
    }
   },
   "source": [
    "If you need help, use a red post-it, raise your hand, or ask on Gitter: https://gitter.im/SwissDataScienceCenter/renku"
   ]
  },
  {
   "cell_type": "markdown",
   "metadata": {
    "slideshow": {
     "slide_type": "slide"
    }
   },
   "source": [
    "# Renku\n",
    "\n",
    "Renku is software for doing data science that is directly and conceptually reproducible.\n",
    "\n",
    "It has two parts:\n",
    "\n",
    "* renku CLI (think `git`)\n",
    "* Renkulab server (think `GitLab` or `GitHub`)"
   ]
  },
  {
   "cell_type": "markdown",
   "metadata": {
    "slideshow": {
     "slide_type": "notes"
    }
   },
   "source": [
    "Renku is a tool for reproducible data science that we are developing at the [Swiss Data Science Center](http://datascience.ch/). It's quite new (only about 1.5 years old as of Jul 2019) and very actively being developed, with many new features underway.\n",
    "\n",
    "Renku is made up of two parts: the renku command-line interface, and the Renkulab server. The distinction is similar to git vs. GitLab. `git` is a set of command-line tools for using version control on a project. GitLab is a server application for managing multiple projects and giving others access to them.\n",
    "\n",
    "Similarly, `renku` is a set of command-line tools for working reproducibly; Renkulab is a server for sharing and collaborating on projects, which includes a zero-install environment for running code, including, but not limited to notebooks.\n",
    "\n",
    "Just as with GitHub and git, projects can be started on the server (e.g., [renkulab.io](https://renkulab.io)), or locally, on your laptop or desktop computer. And it is easy to transition a project from one location to the other.\n",
    "\n",
    "In this tutorial, we will start are project on our laptops, and, in the end, move them to Renkulab where we can share and collaborate with others."
   ]
  },
  {
   "cell_type": "markdown",
   "metadata": {
    "slideshow": {
     "slide_type": "slide"
    }
   },
   "source": [
    "<img alt=\"renku knowledge graph\" src=\"images/evap_adelaide-reduced.svg\" width=\"600\"/>\n",
    "\n",
    "([Evaluation of the Vegetation Optimality Model along the North-Australian Tropical Transect using a fully Open Science approach by Nijzink, Schymanski, et. al.](https://doi.org/10.5281/zenodo.3274346\n",
    "))"
   ]
  },
  {
   "cell_type": "markdown",
   "metadata": {
    "slideshow": {
     "slide_type": "notes"
    }
   },
   "source": [
    "Here is an example of some work that was done using renku. By using renku, it is possible to work reproducibly, documenting the process as a side effect."
   ]
  },
  {
   "cell_type": "markdown",
   "metadata": {
    "slideshow": {
     "slide_type": "skip"
    }
   },
   "source": [
    "# Renku's building blocks\n",
    "\n",
    "<table class=\"table table-condensed\" style=\"font-size: 16px; margin: 10px;\">\n",
    "    <thead>\n",
    "        <tr>\n",
    "            <th>Tool</th>\n",
    "            <th>Environment</th>\n",
    "            <th>Code</th>\n",
    "            <th>Data</th>\n",
    "            <th>Workflow</th>\n",
    "            <th>Provenance</th>\n",
    "        </tr>\n",
    "    </thead>\n",
    "    <tbody>\n",
    "        <tr style=\"font-size:24px;\">\n",
    "            <th><a href=\"https://renkulab.io\">Renku</a></th>\n",
    "            <td>Docker</td>\n",
    "            <td>git</td>\n",
    "            <td>git-lfs</td>\n",
    "            <td>CWL</td>\n",
    "            <td>PROV-O/RDF</td>\n",
    "        </tr>\n",
    "     </tbody>\n",
    "</table>\n",
    "\n"
   ]
  },
  {
   "cell_type": "markdown",
   "metadata": {
    "slideshow": {
     "slide_type": "notes"
    }
   },
   "source": [
    "Renku combines many tools that you may be familiar with and packages them in a unified way. Renku is a sort of \"syntatic sugar\" for the building blocks: users are allowed to peek under the covers and work directly with git, e.g., if that is convenient."
   ]
  },
  {
   "cell_type": "markdown",
   "metadata": {
    "slideshow": {
     "slide_type": "slide"
    }
   },
   "source": [
    "# Task\n",
    "\n",
    "Working with data from [US Dept. of Transportation, Bureau of Transportation Statistics](https://www.transtats.bts.gov), we will answer the following question:\n",
    "\n",
    "- How many flights were there to Austin, TX in Jan 2019"
   ]
  },
  {
   "cell_type": "markdown",
   "metadata": {
    "slideshow": {
     "slide_type": "notes"
    }
   },
   "source": [
    "The tools we will used for the task are a bit oversized for such a simple question. But it will give us an opportunity to look at reproducibility in an understandable and managable context."
   ]
  },
  {
   "cell_type": "markdown",
   "metadata": {},
   "source": [
    "# Hands-on\n",
    "\n",
    "There are four versions of the hands-on that work through the same task in different environments. The two **local** versions uses renku installed on your computer; the two **hosted** versions use our public https://renkulab.io server as the execution environment. In each execution environment, the **plain** version implements the code in normal Python files, the **notebook** version implements the code in Jupyter Notebooks. Pick one from the matrix below.\n",
    "\n",
    "\n",
    "<table style=\"font-size: 14px; margin: 10px;\">\n",
    "    <thead>\n",
    "        <tr>\n",
    "            <th></th>\n",
    "            <th>Plain</th>\n",
    "            <th>Notebook</th> \n",
    "        </tr>\n",
    "    </thead>\n",
    "    <tbody>\n",
    "        <tr> \n",
    "            <th>Local</th>\n",
    "            <td><a href=\"./local_plain/index.ipynb\">Local/Plain</a></td>\n",
    "            <td><a href=\"./local_notebook/index.ipynb\">Local/Notebook</a></td>\n",
    "        </tr>\n",
    "        <tr> \n",
    "            <th>Hosted</th>\n",
    "            <td><a href=\"./hosted_plain/index.ipynb\">Hosted/Plain</a></td>\n",
    "            <td><a href=\"./hosted_notebook/index.ipynb\">Hosted/Notebook</a></td>\n",
    "        </tr>\n",
    "     </tbody>\n",
    "</table>"
   ]
  }
 ],
 "metadata": {
  "celltoolbar": "Slideshow",
  "kernelspec": {
   "display_name": "Python 3",
   "language": "python",
   "name": "python3"
  },
  "language_info": {
   "codemirror_mode": {
    "name": "ipython",
    "version": 3
   },
   "file_extension": ".py",
   "mimetype": "text/x-python",
   "name": "python",
   "nbconvert_exporter": "python",
   "pygments_lexer": "ipython3",
   "version": "3.6.8"
  }
 },
 "nbformat": 4,
 "nbformat_minor": 2
}
