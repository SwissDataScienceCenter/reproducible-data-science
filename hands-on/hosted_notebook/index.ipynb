{
 "cells": [
  {
   "cell_type": "markdown",
   "metadata": {},
   "source": [
    "# **Hands-on Remote / Notebook**"
   ]
  },
  {
   "cell_type": "markdown",
   "metadata": {},
   "source": [
    "# Set-Up\n",
    "\n",
    "* Connect to https://renkulab.io and create an account\n",
    "* Create a new project\n",
    "* Launch a notebook server and connect to it"
   ]
  },
  {
   "cell_type": "markdown",
   "metadata": {},
   "source": [
    "# Hands-on with Renku (1h 30m)\n",
    "\n",
    "<table class=\"table table-striped\" style=\"font-size: 18px; margin: 10px;\">\n",
    "    <tbody>\n",
    "        <tr>\n",
    "            <th width=\"10%\">30 min</th>\n",
    "            <td style=\"text-align: left\">Initialize a project and import data</td>\n",
    "        </tr>\n",
    "        <tr>\n",
    "            <th width=\"10%\"></th>\n",
    "            <td style=\"text-align: left\"><a href=\"01-1-CreateProject.ipynb\">Create a project</a></td>\n",
    "        </tr>        \n",
    "        <tr>\n",
    "            <th width=\"10%\"></th>\n",
    "            <td style=\"text-align: left\"><a href=\"01-2-DeclareEnv.ipynb\">Declare the project environment</a></td>\n",
    "        </tr>\n",
    "        <tr>\n",
    "            <th width=\"10%\"></th>\n",
    "            <td style=\"text-align: left\"><a href=\"01-3-CreateDataset.ipynb\">Create a dataset</a></td>\n",
    "        </tr>        \n",
    "        <tr>\n",
    "            <th width=\"10%\">30 min</th>\n",
    "            <td style=\"text-align: left\">Analyze data</td>\n",
    "        </tr>            \n",
    "            <th width=\"10%\"></th>\n",
    "            <td style=\"text-align: left\"><a href=\"02-1-BuildPipeline.ipynb\">Build an initial pipeline</a></td>\n",
    "        <tr>        \n",
    "            <th width=\"10%\"></th>\n",
    "            <td style=\"text-align: left\"><a href=\"02-2-UpdatePipeline.ipynb\">Improve the pipeline</a></td>            \n",
    "        </tr>\n",
    "        <tr>\n",
    "            <th width=\"10%\">30 min</th>\n",
    "            <td style=\"text-align: left\">Share results and collaborate using <a href=\"https://renkulab.io\">renkulab.io</a>.</td>\n",
    "        </tr>        \n",
    "        <tr>\n",
    "            <th width=\"10%\"></th>\n",
    "            <td style=\"text-align: left\"><a href=\"03-Sharing.ipynb\">Share results</a></td>\n",
    "        </tr>\n",
    "     </tbody>\n",
    "</table>"
   ]
  },
  {
   "cell_type": "code",
   "execution_count": null,
   "metadata": {},
   "outputs": [],
   "source": []
  }
 ],
 "metadata": {
  "kernelspec": {
   "display_name": "Python 3",
   "language": "python",
   "name": "python3"
  },
  "language_info": {
   "codemirror_mode": {
    "name": "ipython",
    "version": 3
   },
   "file_extension": ".py",
   "mimetype": "text/x-python",
   "name": "python",
   "nbconvert_exporter": "python",
   "pygments_lexer": "ipython3",
   "version": "3.6.8"
  }
 },
 "nbformat": 4,
 "nbformat_minor": 2
}
