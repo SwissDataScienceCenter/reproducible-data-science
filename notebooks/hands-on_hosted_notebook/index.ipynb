{
 "cells": [
  {
   "cell_type": "markdown",
   "metadata": {},
   "source": [
    "# **Hands-on Remote / Notebook**"
   ]
  },
  {
   "cell_type": "markdown",
   "metadata": {},
   "source": [
    "# Set-Up\n",
    "\n",
    "* Connect to https://renkulab.io and create an account\n",
    "* Create a new project\n",
    "* Launch a notebook server and connect to it"
   ]
  },
  {
   "cell_type": "markdown",
   "metadata": {},
   "source": [
    "# 00 Download Data\n",
    "\n",
    "* In the Renku tab, Dataset section, create a new dataset called `flights`\n",
    "* Run `curl -L -o ../2019-01-flights.csv.zip https://www.dropbox.com/s/99w7evit5y7jxb3/2019-01-flights.csv.zip?dl=0`\n",
    "* Add data with **Dataset Name** `flights` and **Dataset URL** file:///home/jovyan/2019-01-flights.csv.zip\n",
    "* Remove the downloaded file `rm ../2019-01-flights.csv.zip`"
   ]
  },
  {
   "cell_type": "markdown",
   "metadata": {},
   "source": [
    "# 01 Preprocess Data\n",
    "* Create a new notebook called `01-Preprocess.ipynb` and take the contents from the template\n",
    "* Read the data initially using `df = pd.read_csv(\"../data/flights/2019-01-flights.csv.zip\")`\n",
    "* Run it to test\n",
    "* Then add a first cell with the Papermill metadata \n",
    "```\n",
    "input_path = \"../data/flights/2019-01-flights.csv.zip\"\n",
    "output_path = \"../data/output/2019-01-flights-preprocessed.csv\"```\n",
    "* Read and write the output using these variables\n",
    "\n"
   ]
  },
  {
   "cell_type": "code",
   "execution_count": null,
   "metadata": {},
   "outputs": [],
   "source": []
  },
  {
   "cell_type": "code",
   "execution_count": null,
   "metadata": {},
   "outputs": [],
   "source": []
  }
 ],
 "metadata": {
  "kernelspec": {
   "display_name": "Python 3",
   "language": "python",
   "name": "python3"
  },
  "language_info": {
   "codemirror_mode": {
    "name": "ipython",
    "version": 3
   },
   "file_extension": ".py",
   "mimetype": "text/x-python",
   "name": "python",
   "nbconvert_exporter": "python",
   "pygments_lexer": "ipython3",
   "version": "3.7.3"
  }
 },
 "nbformat": 4,
 "nbformat_minor": 2
}
