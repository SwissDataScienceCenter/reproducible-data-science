{
 "cells": [
  {
   "cell_type": "markdown",
   "metadata": {},
   "source": [
    "# Starting a Renku project"
   ]
  },
  {
   "cell_type": "markdown",
   "metadata": {},
   "source": [
    "## Outline\n",
    "\n",
    "1. **Create repository**\n",
    "2. Declare environment\n",
    "3. Import data"
   ]
  },
  {
   "cell_type": "markdown",
   "metadata": {},
   "source": [
    "# Creating a repository\n",
    "\n",
    "The first thing to do when starting a project is to initialize a repository. This can be done using the UI. One way to create a repository is to make a new one. Another way is to fork an existing one, which is what we will do first. Let us fork the renku-tutorial-flights repository.\n",
    "\n",
    "- Log into https://renkulab.io/login\n",
    "- Navigate to https://renkulab.io/projects/749/\n",
    "- Fork the project by pressing the `fork` button in the upper right\n",
    "\n",
    "![fork](tutorial-images/01-fork.png)\n"
   ]
  },
  {
   "cell_type": "markdown",
   "metadata": {},
   "source": [
    "Let is take a look at what's inside the renku repository"
   ]
  },
  {
   "cell_type": "markdown",
   "metadata": {},
   "source": [
    "# Working in the repository\n",
    "\n",
    "To work in the repository, you need to first create an interactive environment (notebook server). So let us do that.\n",
    "\n",
    "## Step 1: Start a new notebook server\n",
    "\n",
    "![start](tutorial-images/02-start.png)\n",
    "\n",
    "## Step 2: Select options and launch server\n",
    "\n",
    "Take the default options and select `Launch Server`.\n",
    "\n",
    "![launch](tutorial-images/03-launch.png)\n",
    "\n",
    "## Step 3: Connect to server\n",
    "\n",
    "Connect to the server from the `Running>Connect` contextual menu.\n",
    "\n",
    "![launch](tutorial-images/04-connect.png)"
   ]
  },
  {
   "cell_type": "markdown",
   "metadata": {},
   "source": [
    "# Viewing contents of repository\n",
    "\n",
    "The remainder of the tutorial runs on the hosted platform. You should go to the notebook in the location `meta/index.ipynb` and follow the tutorial from there.\n",
    "\n",
    "In the `renku-tutorial-flights` project, there is a notebook called `01-1-CreateProject.ipynb` that you should step through. "
   ]
  },
  {
   "cell_type": "markdown",
   "metadata": {},
   "source": [
    "# Exercises\n"
   ]
  },
  {
   "cell_type": "markdown",
   "metadata": {},
   "source": [
    "## Ex. 1.0\n",
    "\n",
    "Create a renku repository called `renku-tutorial-diamonds`. You can do this from the Renku>Projects menu."
   ]
  },
  {
   "cell_type": "markdown",
   "metadata": {},
   "source": [
    "Follow the link to see the [solutions](./solutions/ex1-0.ipynb).\n"
   ]
  }
 ],
 "metadata": {
  "kernelspec": {
   "display_name": "Python 3",
   "language": "python",
   "name": "python3"
  },
  "language_info": {
   "codemirror_mode": {
    "name": "ipython",
    "version": 3
   },
   "file_extension": ".py",
   "mimetype": "text/x-python",
   "name": "python",
   "nbconvert_exporter": "python",
   "pygments_lexer": "ipython3",
   "version": "3.6.8"
  }
 },
 "nbformat": 4,
 "nbformat_minor": 2
}
