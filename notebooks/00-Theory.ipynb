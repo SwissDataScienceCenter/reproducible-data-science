{
 "cells": [
  {
   "cell_type": "markdown",
   "metadata": {
    "slideshow": {
     "slide_type": "slide"
    }
   },
   "source": [
    "# The Philosphy and Theory of Reproducibility in Data Science"
   ]
  },
  {
   "cell_type": "markdown",
   "metadata": {
    "slideshow": {
     "slide_type": "slide"
    }
   },
   "source": [
    "## Reproducibility, a philosophy of science perspective"
   ]
  },
  {
   "cell_type": "markdown",
   "metadata": {
    "slideshow": {
     "slide_type": "slide"
    }
   },
   "source": [
    "### The reproducibility crisis, a selective history\n",
    "\n",
    "* 2005 John Ioannidis, [Why Most Published Research Findings Are False](https://doi.org/10.1371/journal.pmed.0020124)\n",
    "* 2013 Andrew Gelman & Eric Loken, [The Garden of Forking Paths](http://www.stat.columbia.edu/~gelman/research/unpublished/p_hacking.pdf)\n",
    "* 2018 Victoria Stodden, M. Krafczyk, A. Bhaskar [Enabling the Verification of Computational Results](https://web.stanford.edu/~vcs/papers/P-RECS-2018-SKB-DOI.pdf)"
   ]
  },
  {
   "cell_type": "markdown",
   "metadata": {
    "slideshow": {
     "slide_type": "slide"
    }
   },
   "source": [
    "### Responses\n",
    "\n",
    "* 2012 Lorena Barba [Reproducibility PI Manifesto](https://lorenabarba.com/gallery/reproducibility-pi-manifesto/)\n",
    "* 2017 Munafò, Nosek, Bishop, Button, Chambers, Percie du Sert, Simonsohn, Wagenmakers, Ware, Ioannidis\n",
    "[A manifesto for reproducible science](https://www.nature.com/articles/s41562-016-0021)"
   ]
  },
  {
   "cell_type": "markdown",
   "metadata": {
    "slideshow": {
     "slide_type": "slide"
    }
   },
   "source": [
    "Following the [Stanford Encyclopedia of Philosophy](https://plato.stanford.edu/entries/scientific-reproducibility/)\n",
    "\n",
    "\n",
    "## Degrees of reproducibility\n",
    "\n",
    "* _Reproducibility_, _replicability_, and _repeatability_\n",
    "\n",
    "## The function of reproducibility\n",
    "\n",
    "* controlling for fraud + artifacts\n",
    "* enabling generalizability and verification of hypothesis\n",
    "\n"
   ]
  },
  {
   "cell_type": "markdown",
   "metadata": {
    "slideshow": {
     "slide_type": "slide"
    }
   },
   "source": [
    "## Further References\n",
    "\n",
    "### Videos\n",
    "\n",
    "- [Victoria Stodden on Reproducibility](https://www.youtube.com/watch?v=UyNYP8tMRvI)\n",
    "- [Lorena Barba on Reproducibility](https://www.youtube.com/watch?v=wToLrFvxSfA)\n",
    "- [John Ioannidis on Reproducibility](https://www.youtube.com/watch?v=GPYzY9I78CI)"
   ]
  }
 ],
 "metadata": {
  "celltoolbar": "Slideshow",
  "kernelspec": {
   "display_name": "Python 3",
   "language": "python",
   "name": "python3"
  },
  "language_info": {
   "codemirror_mode": {
    "name": "ipython",
    "version": 3
   },
   "file_extension": ".py",
   "mimetype": "text/x-python",
   "name": "python",
   "nbconvert_exporter": "python",
   "pygments_lexer": "ipython3",
   "version": "3.6.8"
  }
 },
 "nbformat": 4,
 "nbformat_minor": 2
}
