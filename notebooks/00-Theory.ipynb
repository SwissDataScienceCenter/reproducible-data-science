{
 "cells": [
  {
   "cell_type": "markdown",
   "metadata": {},
   "source": [
    "# The Philosphy and Theory of Reproducibility in Data Science"
   ]
  },
  {
   "cell_type": "markdown",
   "metadata": {},
   "source": [
    "## Reproducibility, a philosophy of science perspective\n",
    "\n",
    "* The replication crisis\n",
    "* Overview of reproducibility issues in different domains of science\n",
    "   * Nature 2016 survey results\n",
    "\n",
    "## Degrees of reproducibility\n",
    "\n",
    "* _Reproducibility_, _replicability_, and _repeatability_\n",
    "\n",
    "## The function of reproducibility\n",
    "\n",
    "* controlling for fraud + artifacts\n",
    "* enabling generalizability and verification of hypothesis\n"
   ]
  }
 ],
 "metadata": {
  "kernelspec": {
   "display_name": "Python 3",
   "language": "python",
   "name": "python3"
  },
  "language_info": {
   "codemirror_mode": {
    "name": "ipython",
    "version": 3
   },
   "file_extension": ".py",
   "mimetype": "text/x-python",
   "name": "python",
   "nbconvert_exporter": "python",
   "pygments_lexer": "ipython3",
   "version": "3.6.8"
  }
 },
 "nbformat": 4,
 "nbformat_minor": 2
}
