{
 "cells": [
  {
   "cell_type": "markdown",
   "metadata": {},
   "source": [
    "# Reproducible Data Science in Python &mdash; Index"
   ]
  },
  {
   "cell_type": "markdown",
   "metadata": {},
   "source": [
    "The goal of this tutorial is to explore ways of doing reproducible data science in Python. It begins with a brief discussion of recent history and theory around reproduciblity. Following that is a cursory introduction to the technical building blocks for implementing reproducible data science and a short survey of the current landscape of tools.\n",
    "\n",
    "The hands-on section of the tutorial focusing on doing reproducible data science using [RENKU](https://renkulab.io)."
   ]
  },
  {
   "cell_type": "markdown",
   "metadata": {},
   "source": [
    "# Schedule\n",
    "\n",
    "\n",
    "<table style=\"font-size: 14px; margin: 10px;\">\n",
    "  <tbody>\n",
    "      <tr>\n",
    "        <th>Introduction (1h 10m)</th>\n",
    "        <td></td>\n",
    "        <td></td>\n",
    "      </tr>    \n",
    "      <tr>\n",
    "        <th>15 min</th>\n",
    "        <td>[Background & Theory](./00-Theory.ipynb)</td>\n",
    "        <td style=\"text-align: left\">Terminology, history, and philosophy of reproducibility</td>\n",
    "      </tr>\n",
    "      <tr> \n",
    "        <th>30 min</th>\n",
    "        <td>[Building Blocks](./01-BuildingBlocks.ipynb)</td>\n",
    "        <td style=\"text-align: left\">Building blocks for achieving reproducibility</td>\n",
    "      </tr>\n",
    "      <tr>\n",
    "        <th>15 min</th>\n",
    "        <td>[Tools](./02-Tools.ipynb)</td>\n",
    "        <td style=\"text-align: left\">Survey of the current tool landscape</td>\n",
    "      </tr>\n",
    "      <tr>\n",
    "        <th>10 min</th>\n",
    "        <td>Break</td>\n",
    "        <td></td>\n",
    "      </tr>\n",
    "      <tr>\n",
    "        <th>Hands-on (1h 30m)</th>\n",
    "        <td></td>\n",
    "        <td></td>\n",
    "      </tr>\n",
    "      <tr>\n",
    "        <th>**10 min**</th>\n",
    "        <td>Preview</td>\n",
    "        <td style=\"text-align: left\">What are we trying to accomplish?</td>\n",
    "      </tr>\n",
    "      <tr>\n",
    "        <th>**30 min**</th>\n",
    "        <td>Starting</td>\n",
    "        <td style=\"text-align: left\">Starting a project, inspecting + importing data</td>\n",
    "      </tr>\n",
    "      <tr>\n",
    "        <th>**30 min**</th>\n",
    "        <td>Iterating</td>\n",
    "        <td style=\"text-align: left\">Adding data, improving analysis</td>\n",
    "      </tr>\n",
    "      <tr>\n",
    "        <th>**20 min**</th>\n",
    "        <td>Reflection</td>\n",
    "        <td style=\"text-align: left\">What is the benefit? How much effort was it?</td>\n",
    "      </tr>\n",
    "   </tbody>\n",
    "</table>"
   ]
  },
  {
   "cell_type": "code",
   "execution_count": null,
   "metadata": {},
   "outputs": [],
   "source": []
  }
 ],
 "metadata": {
  "kernelspec": {
   "display_name": "Python 3",
   "language": "python",
   "name": "python3"
  },
  "language_info": {
   "codemirror_mode": {
    "name": "ipython",
    "version": 3
   },
   "file_extension": ".py",
   "mimetype": "text/x-python",
   "name": "python",
   "nbconvert_exporter": "python",
   "pygments_lexer": "ipython3",
   "version": "3.6.8"
  }
 },
 "nbformat": 4,
 "nbformat_minor": 2
}
