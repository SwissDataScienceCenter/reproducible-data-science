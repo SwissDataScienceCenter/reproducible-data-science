{
 "cells": [
  {
   "cell_type": "markdown",
   "metadata": {},
   "source": [
    "# Technologies for Implementing Reproducibility"
   ]
  },
  {
   "cell_type": "markdown",
   "metadata": {},
   "source": [
    "## Documenting Algorithms: Literate programming & clean code"
   ]
  },
  {
   "cell_type": "markdown",
   "metadata": {},
   "source": [
    "### How reproducible is this code?\n",
    "\n",
    "You can execute the following code and get the expected answer. In that sense it is *reproducible*, but is that enough? "
   ]
  },
  {
   "cell_type": "code",
   "execution_count": null,
   "metadata": {},
   "outputs": [],
   "source": [
    "%%bash\n",
    "# From https://benkurtovic.com\n",
    "echo \"\n",
    "(lambda _, __, ___, ____, _____, ______, _______, ________:\n",
    "    getattr(\n",
    "        __import__(True.__class__.__name__[_] + [].__class__.__name__[__]),\n",
    "        ().__class__.__eq__.__class__.__name__[:__] +\n",
    "        ().__iter__().__class__.__name__[_:][_____:________]\n",
    "    )(\n",
    "        _, (lambda _, __, ___: _(_, __, ___))(\n",
    "            lambda _, __, ___:\n",
    "                bytes([___ % __]) + _(_, __, ___ // __) if ___ else\n",
    "                (lambda: _).__code__.co_lnotab,\n",
    "            _ << ________,\n",
    "            (((_____ << ____) + _) << ((___ << _____) - ___)) + (((((___ << __)\n",
    "            - _) << ___) + _) << ((_____ << ____) + (_ << _))) + (((_______ <<\n",
    "            __) - _) << (((((_ << ___) + _)) << ___) + (_ << _))) + (((_______\n",
    "            << ___) + _) << ((_ << ______) + _)) + (((_______ << ____) - _) <<\n",
    "            ((_______ << ___))) + (((_ << ____) - _) << ((((___ << __) + _) <<\n",
    "            __) - _)) - (_______ << ((((___ << __) - _) << __) + _)) + (_______\n",
    "            << (((((_ << ___) + _)) << __))) - ((((((_ << ___) + _)) << __) +\n",
    "            _) << ((((___ << __) + _) << _))) + (((_______ << __) - _) <<\n",
    "            (((((_ << ___) + _)) << _))) + (((___ << ___) + _) << ((_____ <<\n",
    "            _))) + (_____ << ______) + (_ << ___)\n",
    "        )\n",
    "    )\n",
    ")(\n",
    "    *(lambda _, __, ___: _(_, __, ___))(\n",
    "        (lambda _, __, ___:\n",
    "            [__(___[(lambda: _).__code__.co_nlocals])] +\n",
    "            _(_, __, ___[(lambda _: _).__code__.co_nlocals:]) if ___ else []\n",
    "        ),\n",
    "        lambda _: _.__code__.co_argcount,\n",
    "        (\n",
    "            lambda _: _,\n",
    "            lambda _, __: _,\n",
    "            lambda _, __, ___: _,\n",
    "            lambda _, __, ___, ____: _,\n",
    "            lambda _, __, ___, ____, _____: _,\n",
    "            lambda _, __, ___, ____, _____, ______: _,\n",
    "            lambda _, __, ___, ____, _____, ______, _______: _,\n",
    "            lambda _, __, ___, ____, _____, ______, _______, ________: _\n",
    "        )\n",
    "    )\n",
    ")\" | python"
   ]
  },
  {
   "cell_type": "markdown",
   "metadata": {},
   "source": [
    "## Capturing pipelines: Workflow runners"
   ]
  },
  {
   "cell_type": "markdown",
   "metadata": {},
   "source": [
    "## Capturing Changes: version control (git and git-lfs)"
   ]
  },
  {
   "cell_type": "markdown",
   "metadata": {},
   "source": [
    "## Capturing Environments: virtualization and containers"
   ]
  },
  {
   "cell_type": "markdown",
   "metadata": {},
   "source": [
    "## Capturing Provenance: PROV-O"
   ]
  }
 ],
 "metadata": {
  "kernelspec": {
   "display_name": "Python 3",
   "language": "python",
   "name": "python3"
  },
  "language_info": {
   "codemirror_mode": {
    "name": "ipython",
    "version": 3
   },
   "file_extension": ".py",
   "mimetype": "text/x-python",
   "name": "python",
   "nbconvert_exporter": "python",
   "pygments_lexer": "ipython3",
   "version": "3.6.8"
  }
 },
 "nbformat": 4,
 "nbformat_minor": 2
}
